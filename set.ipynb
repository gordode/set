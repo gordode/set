{
  "nbformat": 4,
  "nbformat_minor": 0,
  "metadata": {
    "colab": {
      "name": "Untitled0.ipynb",
      "provenance": []
    },
    "kernelspec": {
      "name": "python3",
      "display_name": "Python 3"
    },
    "language_info": {
      "name": "python"
    }
  },
  "cells": [
    {
      "cell_type": "markdown",
      "source": [
        "installing tools"
      ],
      "metadata": {
        "id": "iJ5hv359KAJo"
      }
    },
    {
      "cell_type": "code",
      "source": [
        "sudo apt install python3"
      ],
      "metadata": {
        "id": "AgYVBz1cLZ1Z"
      },
      "execution_count": null,
      "outputs": []
    },
    {
      "cell_type": "code",
      "source": [
        "sudo apt install git"
      ],
      "metadata": {
        "id": "Jl-BLjb5LQ9M"
      },
      "execution_count": null,
      "outputs": []
    },
    {
      "cell_type": "markdown",
      "source": [
        "installing set"
      ],
      "metadata": {
        "id": "rZpBZeEZLP6O"
      }
    },
    {
      "cell_type": "code",
      "execution_count": null,
      "metadata": {
        "id": "4I9o8FqYJ783"
      },
      "outputs": [],
      "source": [
        "git clone https://github.com/trustedsec/social-engineer-toolkit/"
      ]
    },
    {
      "cell_type": "code",
      "source": [
        "cd setoolkit"
      ],
      "metadata": {
        "id": "zs88m6bIL4uS"
      },
      "execution_count": null,
      "outputs": []
    },
    {
      "cell_type": "code",
      "source": [
        "pip3 install -r requirements.txt"
      ],
      "metadata": {
        "id": "3MkUYs5LMA30"
      },
      "execution_count": null,
      "outputs": []
    },
    {
      "cell_type": "code",
      "source": [
        "python3 setup.py"
      ],
      "metadata": {
        "id": "DhV1JPOmMGyK"
      },
      "execution_count": null,
      "outputs": []
    },
    {
      "cell_type": "markdown",
      "source": [
        "your done now run"
      ],
      "metadata": {
        "id": "81K4yUJ7MM4w"
      }
    },
    {
      "cell_type": "code",
      "source": [
        "setoolkit"
      ],
      "metadata": {
        "id": "PQEBKrExMXIc"
      },
      "execution_count": null,
      "outputs": []
    },
    {
      "cell_type": "markdown",
      "source": [
        "to open"
      ],
      "metadata": {
        "id": "BT-iHed9PLVC"
      }
    }
  ]
}